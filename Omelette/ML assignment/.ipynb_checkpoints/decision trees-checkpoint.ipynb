{
 "cells": [
  {
   "cell_type": "code",
   "execution_count": 9,
   "metadata": {},
   "outputs": [
    {
     "name": "stdout",
     "output_type": "stream",
     "text": [
      "['p', 'x', 's', 'n', 'f', 's', 'f', 'c', 'n', 'b', 't', '?', 's', 'k', 'w', 'w', 'p', 'w', 'o', 'e', 'w', 'v', 'p']\n",
      "['e', 'f', 'f', 'g', 'f', 'n', 'f', 'w', 'b', 'n', 't', 'e', 'f', 'f', 'w', 'w', 'p', 'w', 'o', 'e', 'k', 'a', 'g']\n",
      "['e', 'x', 'y', 'y', 't', 'a', 'f', 'c', 'b', 'g', 'e', 'c', 's', 's', 'w', 'w', 'p', 'w', 'o', 'p', 'k', 's', 'g']\n",
      "['e', 'f', 'y', 'g', 't', 'n', 'f', 'c', 'b', 'u', 't', 'b', 's', 's', 'g', 'g', 'p', 'w', 'o', 'p', 'k', 'v', 'd']\n",
      "['p', 'x', 'y', 'y', 'f', 'f', 'f', 'c', 'b', 'h', 'e', 'b', 'k', 'k', 'n', 'p', 'p', 'w', 'o', 'l', 'h', 'y', 'p']\n",
      "['p', 'x', 'y', 'n', 'f', 'y', 'f', 'c', 'n', 'b', 't', '?', 'k', 'k', 'p', 'p', 'p', 'w', 'o', 'e', 'w', 'v', 'l']\n",
      "['p', 'f', 'y', 'g', 'f', 'f', 'f', 'c', 'b', 'g', 'e', 'b', 'k', 'k', 'p', 'p', 'p', 'w', 'o', 'l', 'h', 'v', 'p']\n",
      "['p', 'x', 'y', 'n', 't', 'p', 'f', 'c', 'n', 'w', 'e', 'e', 's', 's', 'w', 'w', 'p', 'w', 'o', 'p', 'k', 'v', 'u']\n",
      "['p', 'f', 'f', 'y', 'f', 'f', 'f', 'c', 'b', 'h', 'e', 'b', 'k', 'k', 'p', 'n', 'p', 'w', 'o', 'l', 'h', 'v', 'g']\n",
      "['p', 'k', 'y', 'n', 'f', 's', 'f', 'c', 'n', 'b', 't', '?', 's', 's', 'w', 'p', 'p', 'w', 'o', 'e', 'w', 'v', 'd']\n",
      "['p', 'f', 'y', 'n', 'f', 'f', 'f', 'c', 'n', 'b', 't', '?', 's', 's', 'w', 'p', 'p', 'w', 'o', 'e', 'w', 'v', 'l']\n",
      "['p', 'x', 'f', 'y', 'f', 'f', 'f', 'c', 'b', 'p', 'e', 'b', 'k', 'k', 'b', 'n', 'p', 'w', 'o', 'l', 'h', 'y', 'g']\n",
      "['p', 'x', 'y', 'e', 'f', 'f', 'f', 'c', 'n', 'b', 't', '?', 's', 'k', 'p', 'w', 'p', 'w', 'o', 'e', 'w', 'v', 'p']\n",
      "0.7793498372920852\n"
     ]
    }
   ],
   "source": [
    "import csv\n",
    "import random\n",
    "import numpy as np\n",
    "import math\n",
    "import copy\n",
    "\n",
    "with open(\"agaricus-lepiota.data\", 'r') as file:\n",
    "    data = list(csv.reader(file))\n",
    "\n",
    "use_data = random.sample(data, int(len(data)*1/400))\n",
    "    \n",
    "trainingData = random.sample(use_data, int(len(use_data)*2/3))\n",
    "testingData = []\n",
    "for line in use_data:\n",
    "    if line not in trainingData:\n",
    "        testingData.append(line)\n",
    "    \n",
    "edible = 0\n",
    "for l in trainingData:\n",
    "    print(l)\n",
    "    if l[0] == \"e\":\n",
    "        edible = edible + 1\n",
    "        \n",
    "e = get_entropy(edible/len(trainingData))\n",
    "print(e)"
   ]
  },
  {
   "cell_type": "code",
   "execution_count": 2,
   "metadata": {},
   "outputs": [],
   "source": [
    "#calculates entropy given one probability\n",
    "def get_entropy(probability):\n",
    "    \n",
    "# get 2nd probability from the first\n",
    "# we know there are only two probabilities because there are 2 classes\n",
    "    p1 = probability\n",
    "    p2 = 1 - p1\n",
    "    if p1 == 0 or p2 == 0:  #math.log will complain if we give it zero\n",
    "        entropy = 0         #convention of entropy calculation\n",
    "    else:\n",
    "        entropy = -( p1*math.log(p1, 2) + p2*math.log(p2, 2) )    #entropy formula\n",
    "    return entropy"
   ]
  },
  {
   "cell_type": "code",
   "execution_count": 11,
   "metadata": {},
   "outputs": [],
   "source": [
    "# calculate gain of a given feature for a given distribution\n",
    "# feature_values is an array of all the values the feature can take on\n",
    "def calculate_gain(distribution, entropy_of_dist, feature, feature_values):\n",
    "    feature_value_counts = np.zeros((3, len(feature_values)), int)\n",
    "\n",
    "# make feature_value_counts, which is a numpy matrix with num cols = num feature values, num rows = 2\n",
    "# first row is how many of each feature value is in the distribution, eg feature 2=\"a\" in 10 mushrooms\n",
    "# second row is how many edible mushrooms there are when feature=faeture_value[i]\n",
    "# third row is how many poisonous mushrooms there are when feature=faeture_value[i]\n",
    "# all for calculating the entropy for each value of the feature\n",
    "# this is weird sorry\n",
    "    for mushroom in distribution:\n",
    "        i = 0\n",
    "        for f in range(0, len(feature_values)):\n",
    "            if mushroom[feature] == feature_values[f]:\n",
    "                feature_value_counts[0, f] = feature_value_counts[0, f] + 1\n",
    "                i = f\n",
    "        if mushroom[0] == \"e\":\n",
    "            feature_value_counts[1, i] = feature_value_counts[1, i] + 1\n",
    "        else:\n",
    "            feature_value_counts[2, i] = feature_value_counts[2, i] + 1\n",
    "       \n",
    "        \n",
    "# get gain of the feature using formula\n",
    "# gets entropy for each feature value using feature_value_counts\n",
    "    gain = entropy_of_dist\n",
    "    for y in range(0, len(feature_values)):\n",
    "        entropy_of_feature = get_entropy(feature_value_counts[1, y]/sum(feature_value_counts[1:,y]))\n",
    "        gain = gain - 1/len(distribution) * (feature_value_counts[0, y]) * entropy_of_feature\n",
    "    \n",
    "    return gain"
   ]
  },
  {
   "cell_type": "code",
   "execution_count": 4,
   "metadata": {},
   "outputs": [],
   "source": [
    "# finds the feature with the highest gain given a distribution(dataset)\n",
    "# feature_values is a matrix where row i contains the feature values for feature i+1\n",
    "# its i+1 not i because the first element in every row of the dataset is \"p\" or \"e\", the class label\n",
    "def get_next_feature(distribution, num_features, feature_values):\n",
    "    edible_count = 0\n",
    "    for mushroom in distribution:\n",
    "        if mushroom[0] == \"e\":\n",
    "            edible_count = edible_count + 1\n",
    "            \n",
    "    entropy = get_entropy(edible_count/len(distribution))\n",
    "        \n",
    "    best_gain = 0\n",
    "    best_feature = 0\n",
    "    for feature in range(1, num_features+1):\n",
    "        new_gain = calculate_gain(distribution, entropy, feature, feature_values[feature-1])\n",
    "        if  new_gain > best_gain:\n",
    "            best_gain = new_gain\n",
    "            best_feature = feature\n",
    "            \n",
    "    return best_feature"
   ]
  },
  {
   "cell_type": "code",
   "execution_count": 5,
   "metadata": {},
   "outputs": [],
   "source": [
    "# split the distribution based on the feature chosen in get_next_feature\n",
    "# feature_values is a list of the values the feature can take on\n",
    "# returns as many new distributions as there are feature values\n",
    "# removes the feature we split on from the distribution, since we dont need to check it anymore\n",
    "def split_dist(distro, feature, feature_values):\n",
    "    distribution = copy.deepcopy(distro)\n",
    "    new_distributions = [[]]*len(feature_values)\n",
    "        \n",
    "    for mushroom in distribution:\n",
    "        f = 0\n",
    "        for y in range(0, len(feature_values)):\n",
    "            if mushroom[feature] == feature_values[y]:\n",
    "                f = y\n",
    "        \n",
    "        mushroom.pop(feature)\n",
    "        new_distributions[f].append(mushroom)\n",
    "        \n",
    "    return new_distributions"
   ]
  },
  {
   "cell_type": "code",
   "execution_count": 6,
   "metadata": {},
   "outputs": [],
   "source": [
    "#not done but will create a branch of the tree?\n",
    "# recursion ¯\\_(ツ)_/¯\n",
    "def create_branch(sofar, distribution, feature_values, num_features):\n",
    "    \n",
    "    if len(distribution) == 0:\n",
    "        return tree(sofar)\n",
    "    else:\n",
    "        next_feature = get_next_feature(distribution, num_features, feature_values)\n",
    "        next_branches = split_dist(distribution, next_feature, feature_values)\n",
    "    \n",
    "        feature_values.pop(next_feature)\n",
    "    \n",
    "    #do something to create the tree here!!\n",
    "    #need to remove the last nodes feature values from feature_values before using it\n",
    "    \n",
    "        for branch in next_branches:\n",
    "            create_tree(branch, feature_values, num_features - 1)"
   ]
  },
  {
   "cell_type": "code",
   "execution_count": 7,
   "metadata": {},
   "outputs": [],
   "source": [
    "# theoretically done but unable to test until create_branch is done\n",
    "def create_tree(distribution, num_features):\n",
    "    feature_values = []\n",
    "    for f in range(num_features):\n",
    "        l = []\n",
    "        for m in distribution:\n",
    "            l.append(m[f+1])\n",
    "        \n",
    "        feature_values.append(list(set(l)))\n",
    "        \n",
    "    tree = create_branch([], distribution, feature_values, num_features)\n",
    "    "
   ]
  },
  {
   "cell_type": "code",
   "execution_count": 12,
   "metadata": {},
   "outputs": [
    {
     "name": "stdout",
     "output_type": "stream",
     "text": [
      "3\n",
      "[['e', 'a', 'n'], ['p', 'c', 'y'], ['e', 'c', 'n'], ['e', 'b', 'y'], ['p', 'b', 'n'], ['e', 'c', 'y'], ['p', 'a', 'n'], ['e', 'b', 'y']]\n"
     ]
    }
   ],
   "source": [
    "# testing using the last question in the decision trees tut\n",
    "# data for this is in coms3.txt\n",
    "with open(\"coms3.txt\", 'r') as file:\n",
    "    test = list(csv.reader(file))\n",
    "    \n",
    "k = get_next_feature(test, 3, [['b', 'c', 'a'], ['y', 'n'], ['y', 'n']])\n",
    "print(k)\n",
    "q = split_dist(test, 3, ['y', 'n'])\n",
    "print(q[0])"
   ]
  },
  {
   "cell_type": "code",
   "execution_count": null,
   "metadata": {},
   "outputs": [],
   "source": []
  }
 ],
 "metadata": {
  "kernelspec": {
   "display_name": "Python 3",
   "language": "python",
   "name": "python3"
  },
  "language_info": {
   "codemirror_mode": {
    "name": "ipython",
    "version": 3
   },
   "file_extension": ".py",
   "mimetype": "text/x-python",
   "name": "python",
   "nbconvert_exporter": "python",
   "pygments_lexer": "ipython3",
   "version": "3.6.4"
  }
 },
 "nbformat": 4,
 "nbformat_minor": 2
}
