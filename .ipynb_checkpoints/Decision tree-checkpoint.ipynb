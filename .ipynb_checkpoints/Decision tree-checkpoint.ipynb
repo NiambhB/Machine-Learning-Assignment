{
 "cells": [
  {
   "cell_type": "code",
   "execution_count": 3,
   "metadata": {},
   "outputs": [],
   "source": [
    "#raw CSV data from generatedata.com\n",
    "\n",
    "age,occupation,credit rating,label\n",
    "middle_aged,student,excellent,sell\n",
    "senior,worker,fair,sell\n",
    "youth,worker,excellent,sell\n",
    "middle_aged,worker,fair,dont_sell\n",
    "youth,worker,fair,sell\n",
    "senior,worker,fair,sell\n",
    "youth,worker,fair,sell\n",
    "middle_aged,student,excellent,dont_sell\n",
    "youth,student,fair,sell\n",
    "youth,worker,excellent,sell\n",
    "youth,student,fair,sell\n",
    "senior,student,excellent,dont_sell\n",
    "senior,worker,fair,sell\n",
    "youth,student,excellent,dont_sell\n",
    "senior,student,fair,sell\n",
    "senior,worker,fair,sell\n",
    "middle_aged,student,fair,sell\n",
    "youth,worker,fair,sell\n",
    "middle_aged,student,fair,dont_sell\n",
    "youth,student,fair,dont_sell\n",
    "senior,student,excellent,dont_sell\n",
    "youth,student,fair,dont_sell\n",
    "youth,worker,excellent,dont_sell\n",
    "youth,student,excellent,dont_sell\n",
    "middle_aged,student,fair,dont_sell\n",
    "middle_aged,worker,fair,sell\n",
    "middle_aged,student,excellent,dont_sell\n",
    "senior,student,excellent,dont_sell\n",
    "senior,worker,excellent,sell\n",
    "senior,worker,excellent,sell\n",
    "middle_aged,worker,fair,sell\n",
    "senior,worker,fair,dont_sell\n",
    "youth,worker,fair,sell\n",
    "youth,worker,excellent,sell\n",
    "senior,worker,fair,sell\n",
    "middle_aged,student,fair,sell\n",
    "youth,student,excellent,dont_sell\n",
    "youth,student,fair,dont_sell\n",
    "youth,student,fair,dont_sell\n",
    "senior,student,fair,dont_sell\n",
    "senior,student,fair,dont_sell\n",
    "middle_aged,student,excellent,sell\n",
    "senior,worker,excellent,sell\n",
    "youth,student,excellent,dont_sell\n",
    "youth,student,fair,sell\n",
    "middle_aged,student,fair,dont_sell\n",
    "senior,student,fair,dont_sell\n",
    "middle_aged,student,fair,dont_sell\n",
    "youth,worker,fair,sell\n",
    "middle_aged,student,fair,dont_sell\n",
    "youth,worker,fair,dont_sell\n",
    "youth,student,fair,sell\n",
    "middle_aged,worker,fair,dont_sell\n",
    "youth,worker,fair,dont_sell\n",
    "middle_aged,worker,excellent,dont_sell\n",
    "middle_aged,student,fair,dont_sell\n",
    "senior,student,excellent,sell\n",
    "middle_aged,worker,fair,dont_sell\n",
    "senior,worker,excellent,dont_sell\n",
    "youth,worker,fair,sell\n",
    "senior,student,fair,dont_sell\n",
    "senior,student,fair,dont_sell\n",
    "middle_aged,worker,fair,sell\n",
    "youth,student,excellent,dont_sell\n",
    "middle_aged,worker,fair,sell\n",
    "middle_aged,worker,excellent,sell\n",
    "youth,student,fair,dont_sell\n",
    "youth,student,excellent,sell\n",
    "senior,worker,fair,dont_sell\n",
    "senior,worker,fair,sell\n",
    "youth,student,excellent,dont_sell\n",
    "youth,worker,fair,dont_sell\n",
    "middle_aged,student,excellent,sell\n",
    "middle_aged,student,excellent,sell\n",
    "youth,worker,fair,dont_sell\n",
    "senior,worker,excellent,sell\n",
    "youth,worker,fair,dont_sell\n",
    "senior,worker,fair,sell\n",
    "senior,student,fair,sell\n",
    "middle_aged,worker,excellent,dont_sell\n",
    "senior,student,excellent,dont_sell\n",
    "youth,student,excellent,dont_sell\n",
    "middle_aged,student,fair,sell\n",
    "middle_aged,worker,excellent,sell\n",
    "middle_aged,student,fair,dont_sell\n",
    "youth,student,fair,dont_sell\n",
    "youth,worker,excellent,dont_sell\n",
    "senior,student,excellent,dont_sell\n",
    "middle_aged,student,fair,dont_sell\n",
    "senior,worker,fair,dont_sell\n",
    "middle_aged,student,fair,dont_sell\n",
    "senior,worker,fair,dont_sell\n",
    "senior,worker,excellent,dont_sell\n",
    "senior,worker,fair,sell\n",
    "youth,worker,excellent,sell\n",
    "youth,student,fair,dont_sell\n",
    "senior,student,excellent,sell\n",
    "senior,worker,excellent,dont_sell\n",
    "senior,worker,fair,dont_sell\n",
    "senior,worker,fair,sell\n"
   ]
  },
  {
   "cell_type": "code",
   "execution_count": 7,
   "metadata": {},
   "outputs": [],
   "source": [
    "# Column labels.\n",
    "# These are used only to print the tree.\n",
    "header = [\"age\", \"occupation\", \"credit rating\", \"label\"]"
   ]
  },
  {
   "cell_type": "code",
   "execution_count": 4,
   "metadata": {},
   "outputs": [],
   "source": [
    "def unique_vals(rows, col):\n",
    "    \"\"\"Find the unique values for a column in a dataset.\"\"\"\n",
    "    return set([row[col] for row in rows])"
   ]
  },
  {
   "cell_type": "code",
   "execution_count": 6,
   "metadata": {},
   "outputs": [
    {
     "data": {
      "text/plain": [
       "{1, 3}"
      ]
     },
     "execution_count": 6,
     "metadata": {},
     "output_type": "execute_result"
    }
   ],
   "source": [
    "#######\n",
    "# Demo:\n",
    "unique_vals(training_data, )\n",
    "# unique_vals(training_data, 1)\n",
    "#######"
   ]
  },
  {
   "cell_type": "code",
   "execution_count": null,
   "metadata": {},
   "outputs": [],
   "source": []
  }
 ],
 "metadata": {
  "kernelspec": {
   "display_name": "Python 3",
   "language": "python",
   "name": "python3"
  },
  "language_info": {
   "codemirror_mode": {
    "name": "ipython",
    "version": 3
   },
   "file_extension": ".py",
   "mimetype": "text/x-python",
   "name": "python",
   "nbconvert_exporter": "python",
   "pygments_lexer": "ipython3",
   "version": "3.6.4"
  }
 },
 "nbformat": 4,
 "nbformat_minor": 2
}
